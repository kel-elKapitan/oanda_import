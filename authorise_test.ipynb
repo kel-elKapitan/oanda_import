{
 "cells": [
  {
   "cell_type": "code",
   "execution_count": 1,
   "metadata": {},
   "outputs": [],
   "source": [
    "# load standard packages\n",
    "\n",
    "import pandas as pd\n",
    "import requests\n",
    "from datetime import timezone, datetime\n",
    "\n",
    "# Load OANDA packages\n",
    "\n",
    "import oandapyV20\n",
    "import oandapyV20.endpoints.instruments as instruments"
   ]
  },
  {
   "cell_type": "code",
   "execution_count": null,
   "metadata": {},
   "outputs": [],
   "source": [
    "# set a startdate and a timeframe\n",
    "\n",
    "start_datetime = datetime(1990, 1, 1)\n",
    "timeframe = \"D\"\n",
    "my_access_token = \"\"\n",
    "\n",
    "oanda = oandapyV20.API(environment=\"practice\", access_token=my_access_token)"
   ]
  },
  {
   "cell_type": "code",
   "execution_count": null,
   "metadata": {},
   "outputs": [],
   "source": [
    "# function to find the latest or most up to date timestamp\n",
    "\n",
    "def OANDA_Connection_Latest(pair):\n",
    "    global timeframe\n",
    "\n",
    "    client = oandapyV20.API(access_token=my_access_token)\n",
    "\n",
    "    params = {\"count\": 1, \"granularity\": timeframe}\n",
    "\n",
    "    r = instruments.InstrumentsCandles(instrument=pair, params=params)\n",
    "\n",
    "    client.request(r)\n",
    "    r.response['candles'][0]['mid']\n",
    "    r.response['candles'][0]['time']\n",
    "    r.response['candles'][0]['volume']\n",
    "    dat = []\n",
    "    \n",
    "    for oo in r.response['candles']:\n",
    "        dat.append([oo['time']])\n",
    "        df = pd.DataFrame(dat)\n",
    "        df.columns = ['Time']\n",
    "        \n",
    "    #Convert To Float\n",
    "    df[\"Time\"] = pd.to_datetime(df[\"Time\"], unit='ns')\n",
    "    latest_datetime = int((df['Time'].iloc[0]).replace(tzinfo=timezone.utc).timestamp())\n",
    "    \n",
    "    return latest_datetime"
   ]
  },
  {
   "cell_type": "code",
   "execution_count": null,
   "metadata": {},
   "outputs": [],
   "source": [
    "# function to download 5000 entries at a time\n",
    "\n",
    "def OANDA_Connection(active_datetime, pair):\n",
    "    global timeframe\n",
    "    client = oandapyV20.API(access_token=my_access_token)\n",
    "    params = {\"from\": active_datetime, \"count\": 5000, \"granularity\": timeframe}\n",
    "    \n",
    "    r = instruments.InstrumentsCandles(instrument=pair, params=params)\n",
    "    \n",
    "    client.request(r)\n",
    "    \n",
    "    r.response['candles'][0]['mid']\n",
    "    r.response['candles'][0]['time']\n",
    "    r.response['candles'][0]['volume']\n",
    "    \n",
    "    dat = []\n",
    "    \n",
    "    for oo in r.response['candles']:\n",
    "        dat.append([oo['time'], oo['mid']['o'], oo['mid']['h'], oo['mid']['l'], oo['mid']['c'], oo['volume'], oo['complete']])\n",
    "        df = pd.DataFrame(dat)\n",
    "        df.columns = ['Time', 'Open', 'High', 'Low', 'Close', 'Volume', 'Complete']\n",
    "        \n",
    "    #Convert To Float\n",
    "    df[\"Time\"] = pd.to_datetime(df[\"Time\"], unit='ns')\n",
    "    df[\"Open\"] = pd.to_numeric(df[\"Open\"], downcast=\"float\")\n",
    "    df[\"High\"] = pd.to_numeric(df[\"High\"], downcast=\"float\")\n",
    "    df[\"Low\"] = pd.to_numeric(df[\"Low\"], downcast=\"float\")\n",
    "    df[\"Close\"] = pd.to_numeric(df[\"Close\"], downcast=\"float\")\n",
    "    \n",
    "    return df"
   ]
  },
  {
   "cell_type": "code",
   "execution_count": null,
   "metadata": {},
   "outputs": [],
   "source": [
    "def DownloadData(pair):\n",
    "    global start_datetime\n",
    "    start_unix = int(start_datetime.replace(tzinfo=timezone.utc).timestamp())\n",
    "    latest_datetime = OANDA_Connection_Latest(pair)\n",
    "    active_datetime = start_unix\n",
    "    all_data = pd.DataFrame([])\n",
    "    \n",
    "    while active_datetime != latest_datetime:\n",
    "        df = OANDA_Connection(active_datetime, pair)\n",
    "        last_row = df.tail(1)\n",
    "\n",
    "        active_datetime = int((last_row['Time'].iloc[0]).replace(tzinfo=timezone.utc).timestamp())\n",
    "    all_data = all_data.append(df)\n",
    "    all_data = all_data.reset_index()\n",
    "    all_data = all_data.drop(['index'], axis=1)\n",
    "\n",
    "    return all_data"
   ]
  },
  {
   "cell_type": "code",
   "execution_count": null,
   "metadata": {},
   "outputs": [],
   "source": [
    "def DownloadAllPairs():\n",
    "    #Download All Currency Pairs\n",
    "    \n",
    "    pairs = ['EUR_USD', 'AUD_USD', 'GBP_USD', 'NZD_USD', 'USD_CAD', 'USD_CHF', 'USD_JPY']\n",
    "    \n",
    "    for pair in pairs:\n",
    "        pair_data = DownloadData(pair)\n",
    "        print(pair + \" Downloaded\\n\\n\")\n",
    "        pair_data.to_csv('Data_' + pair + '.csv', index=False)\n",
    "        print((pair + \" Saved to csv file: DATA_\" + pair + \".csv\"))\n",
    "    return"
   ]
  },
  {
   "cell_type": "code",
   "execution_count": 13,
   "metadata": {},
   "outputs": [
    {
     "ename": "V20Error",
     "evalue": "{\"errorMessage\":\"Insufficient authorization to perform request.\"}",
     "output_type": "error",
     "traceback": [
      "\u001b[1;31m---------------------------------------------------------------------------\u001b[0m",
      "\u001b[1;31mV20Error\u001b[0m                                  Traceback (most recent call last)",
      "Cell \u001b[1;32mIn[13], line 1\u001b[0m\n\u001b[1;32m----> 1\u001b[0m \u001b[43mDownloadAllPairs\u001b[49m\u001b[43m(\u001b[49m\u001b[43m)\u001b[49m\n\u001b[0;32m      2\u001b[0m \u001b[38;5;28mprint\u001b[39m(\u001b[38;5;124m\"\u001b[39m\u001b[38;5;124m7 instruments downloaded from \u001b[39m\u001b[38;5;124m\"\u001b[39m \u001b[38;5;241m+\u001b[39m \u001b[38;5;28mstr\u001b[39m(start_datetime) \u001b[38;5;241m+\u001b[39m \u001b[38;5;124m\"\u001b[39m\u001b[38;5;124m to the latest candle\u001b[39m\u001b[38;5;124m\"\u001b[39m)\n",
      "Cell \u001b[1;32mIn[11], line 7\u001b[0m, in \u001b[0;36mDownloadAllPairs\u001b[1;34m()\u001b[0m\n\u001b[0;32m      4\u001b[0m pairs \u001b[38;5;241m=\u001b[39m [\u001b[38;5;124m'\u001b[39m\u001b[38;5;124mEUR_USD\u001b[39m\u001b[38;5;124m'\u001b[39m, \u001b[38;5;124m'\u001b[39m\u001b[38;5;124mAUD_USD\u001b[39m\u001b[38;5;124m'\u001b[39m, \u001b[38;5;124m'\u001b[39m\u001b[38;5;124mGBP_USD\u001b[39m\u001b[38;5;124m'\u001b[39m, \u001b[38;5;124m'\u001b[39m\u001b[38;5;124mNZD_USD\u001b[39m\u001b[38;5;124m'\u001b[39m, \u001b[38;5;124m'\u001b[39m\u001b[38;5;124mUSD_CAD\u001b[39m\u001b[38;5;124m'\u001b[39m, \u001b[38;5;124m'\u001b[39m\u001b[38;5;124mUSD_CHF\u001b[39m\u001b[38;5;124m'\u001b[39m, \u001b[38;5;124m'\u001b[39m\u001b[38;5;124mUSD_JPY\u001b[39m\u001b[38;5;124m'\u001b[39m]\n\u001b[0;32m      6\u001b[0m \u001b[38;5;28;01mfor\u001b[39;00m pair \u001b[38;5;129;01min\u001b[39;00m pairs:\n\u001b[1;32m----> 7\u001b[0m     pair_data \u001b[38;5;241m=\u001b[39m \u001b[43mDownloadData\u001b[49m\u001b[43m(\u001b[49m\u001b[43mpair\u001b[49m\u001b[43m)\u001b[49m\n\u001b[0;32m      8\u001b[0m     \u001b[38;5;28mprint\u001b[39m(pair \u001b[38;5;241m+\u001b[39m \u001b[38;5;124m\"\u001b[39m\u001b[38;5;124m Downloaded\u001b[39m\u001b[38;5;130;01m\\n\u001b[39;00m\u001b[38;5;130;01m\\n\u001b[39;00m\u001b[38;5;124m\"\u001b[39m)\n\u001b[0;32m      9\u001b[0m     pair_data\u001b[38;5;241m.\u001b[39mto_csv(\u001b[38;5;124m'\u001b[39m\u001b[38;5;124mData_\u001b[39m\u001b[38;5;124m'\u001b[39m \u001b[38;5;241m+\u001b[39m pair \u001b[38;5;241m+\u001b[39m \u001b[38;5;124m'\u001b[39m\u001b[38;5;124m.csv\u001b[39m\u001b[38;5;124m'\u001b[39m, index\u001b[38;5;241m=\u001b[39m\u001b[38;5;28;01mFalse\u001b[39;00m)\n",
      "Cell \u001b[1;32mIn[10], line 4\u001b[0m, in \u001b[0;36mDownloadData\u001b[1;34m(pair)\u001b[0m\n\u001b[0;32m      2\u001b[0m \u001b[38;5;28;01mglobal\u001b[39;00m start_datetime\n\u001b[0;32m      3\u001b[0m start_unix \u001b[38;5;241m=\u001b[39m \u001b[38;5;28mint\u001b[39m(start_datetime\u001b[38;5;241m.\u001b[39mreplace(tzinfo\u001b[38;5;241m=\u001b[39mtimezone\u001b[38;5;241m.\u001b[39mutc)\u001b[38;5;241m.\u001b[39mtimestamp())\n\u001b[1;32m----> 4\u001b[0m latest_datetime \u001b[38;5;241m=\u001b[39m \u001b[43mOANDA_Connection_Latest\u001b[49m\u001b[43m(\u001b[49m\u001b[43mpair\u001b[49m\u001b[43m)\u001b[49m\n\u001b[0;32m      5\u001b[0m active_datetime \u001b[38;5;241m=\u001b[39m start_unix\n\u001b[0;32m      6\u001b[0m all_data \u001b[38;5;241m=\u001b[39m pd\u001b[38;5;241m.\u001b[39mDataFrame([])\n",
      "Cell \u001b[1;32mIn[8], line 12\u001b[0m, in \u001b[0;36mOANDA_Connection_Latest\u001b[1;34m(pair)\u001b[0m\n\u001b[0;32m      8\u001b[0m params \u001b[38;5;241m=\u001b[39m {\u001b[38;5;124m\"\u001b[39m\u001b[38;5;124mcount\u001b[39m\u001b[38;5;124m\"\u001b[39m: \u001b[38;5;241m1\u001b[39m, \u001b[38;5;124m\"\u001b[39m\u001b[38;5;124mgranularity\u001b[39m\u001b[38;5;124m\"\u001b[39m: timeframe}\n\u001b[0;32m     10\u001b[0m r \u001b[38;5;241m=\u001b[39m instruments\u001b[38;5;241m.\u001b[39mInstrumentsCandles(instrument\u001b[38;5;241m=\u001b[39mpair, params\u001b[38;5;241m=\u001b[39mparams)\n\u001b[1;32m---> 12\u001b[0m \u001b[43mclient\u001b[49m\u001b[38;5;241;43m.\u001b[39;49m\u001b[43mrequest\u001b[49m\u001b[43m(\u001b[49m\u001b[43mr\u001b[49m\u001b[43m)\u001b[49m\n\u001b[0;32m     13\u001b[0m r\u001b[38;5;241m.\u001b[39mresponse[\u001b[38;5;124m'\u001b[39m\u001b[38;5;124mcandles\u001b[39m\u001b[38;5;124m'\u001b[39m][\u001b[38;5;241m0\u001b[39m][\u001b[38;5;124m'\u001b[39m\u001b[38;5;124mmid\u001b[39m\u001b[38;5;124m'\u001b[39m]\n\u001b[0;32m     14\u001b[0m r\u001b[38;5;241m.\u001b[39mresponse[\u001b[38;5;124m'\u001b[39m\u001b[38;5;124mcandles\u001b[39m\u001b[38;5;124m'\u001b[39m][\u001b[38;5;241m0\u001b[39m][\u001b[38;5;124m'\u001b[39m\u001b[38;5;124mtime\u001b[39m\u001b[38;5;124m'\u001b[39m]\n",
      "File \u001b[1;32m~\\AppData\\Local\\Packages\\PythonSoftwareFoundation.Python.3.11_qbz5n2kfra8p0\\LocalCache\\local-packages\\Python311\\site-packages\\oandapyV20\\oandapyV20.py:337\u001b[0m, in \u001b[0;36mAPI.request\u001b[1;34m(self, endpoint)\u001b[0m\n\u001b[0;32m    331\u001b[0m \u001b[38;5;28;01mif\u001b[39;00m \u001b[38;5;129;01mnot\u001b[39;00m (\u001b[38;5;28mhasattr\u001b[39m(endpoint, \u001b[38;5;124m\"\u001b[39m\u001b[38;5;124mSTREAM\u001b[39m\u001b[38;5;124m\"\u001b[39m) \u001b[38;5;129;01mand\u001b[39;00m\n\u001b[0;32m    332\u001b[0m         \u001b[38;5;28mgetattr\u001b[39m(endpoint, \u001b[38;5;124m\"\u001b[39m\u001b[38;5;124mSTREAM\u001b[39m\u001b[38;5;124m\"\u001b[39m) \u001b[38;5;129;01mis\u001b[39;00m \u001b[38;5;28;01mTrue\u001b[39;00m):\n\u001b[0;32m    333\u001b[0m     url \u001b[38;5;241m=\u001b[39m \u001b[38;5;124m\"\u001b[39m\u001b[38;5;132;01m{}\u001b[39;00m\u001b[38;5;124m/\u001b[39m\u001b[38;5;132;01m{}\u001b[39;00m\u001b[38;5;124m\"\u001b[39m\u001b[38;5;241m.\u001b[39mformat(\n\u001b[0;32m    334\u001b[0m         TRADING_ENVIRONMENTS[\u001b[38;5;28mself\u001b[39m\u001b[38;5;241m.\u001b[39menvironment][\u001b[38;5;124m\"\u001b[39m\u001b[38;5;124mapi\u001b[39m\u001b[38;5;124m\"\u001b[39m],\n\u001b[0;32m    335\u001b[0m         endpoint)\n\u001b[1;32m--> 337\u001b[0m     response \u001b[38;5;241m=\u001b[39m \u001b[38;5;28;43mself\u001b[39;49m\u001b[38;5;241;43m.\u001b[39;49m\u001b[43m__request\u001b[49m\u001b[43m(\u001b[49m\u001b[43mmethod\u001b[49m\u001b[43m,\u001b[49m\u001b[43m \u001b[49m\u001b[43murl\u001b[49m\u001b[43m,\u001b[49m\n\u001b[0;32m    338\u001b[0m \u001b[43m                              \u001b[49m\u001b[43mrequest_args\u001b[49m\u001b[43m,\u001b[49m\u001b[43m \u001b[49m\u001b[43mheaders\u001b[49m\u001b[38;5;241;43m=\u001b[39;49m\u001b[43mheaders\u001b[49m\u001b[43m)\u001b[49m\n\u001b[0;32m    339\u001b[0m     content \u001b[38;5;241m=\u001b[39m response\u001b[38;5;241m.\u001b[39mcontent\u001b[38;5;241m.\u001b[39mdecode(\u001b[38;5;124m'\u001b[39m\u001b[38;5;124mutf-8\u001b[39m\u001b[38;5;124m'\u001b[39m)\n\u001b[0;32m    340\u001b[0m     content \u001b[38;5;241m=\u001b[39m json\u001b[38;5;241m.\u001b[39mloads(content)\n",
      "File \u001b[1;32m~\\AppData\\Local\\Packages\\PythonSoftwareFoundation.Python.3.11_qbz5n2kfra8p0\\LocalCache\\local-packages\\Python311\\site-packages\\oandapyV20\\oandapyV20.py:274\u001b[0m, in \u001b[0;36mAPI.__request\u001b[1;34m(self, method, url, request_args, headers, stream)\u001b[0m\n\u001b[0;32m    269\u001b[0m \u001b[38;5;28;01mif\u001b[39;00m response\u001b[38;5;241m.\u001b[39mstatus_code \u001b[38;5;241m>\u001b[39m\u001b[38;5;241m=\u001b[39m \u001b[38;5;241m400\u001b[39m:\n\u001b[0;32m    270\u001b[0m     logger\u001b[38;5;241m.\u001b[39merror(\u001b[38;5;124m\"\u001b[39m\u001b[38;5;124mrequest \u001b[39m\u001b[38;5;132;01m%s\u001b[39;00m\u001b[38;5;124m failed [\u001b[39m\u001b[38;5;132;01m%d\u001b[39;00m\u001b[38;5;124m,\u001b[39m\u001b[38;5;132;01m%s\u001b[39;00m\u001b[38;5;124m]\u001b[39m\u001b[38;5;124m\"\u001b[39m,\n\u001b[0;32m    271\u001b[0m                  url,\n\u001b[0;32m    272\u001b[0m                  response\u001b[38;5;241m.\u001b[39mstatus_code,\n\u001b[0;32m    273\u001b[0m                  response\u001b[38;5;241m.\u001b[39mcontent\u001b[38;5;241m.\u001b[39mdecode(\u001b[38;5;124m'\u001b[39m\u001b[38;5;124mutf-8\u001b[39m\u001b[38;5;124m'\u001b[39m))\n\u001b[1;32m--> 274\u001b[0m     \u001b[38;5;28;01mraise\u001b[39;00m V20Error(response\u001b[38;5;241m.\u001b[39mstatus_code,\n\u001b[0;32m    275\u001b[0m                    response\u001b[38;5;241m.\u001b[39mcontent\u001b[38;5;241m.\u001b[39mdecode(\u001b[38;5;124m'\u001b[39m\u001b[38;5;124mutf-8\u001b[39m\u001b[38;5;124m'\u001b[39m))\n\u001b[0;32m    276\u001b[0m \u001b[38;5;28;01mreturn\u001b[39;00m response\n",
      "\u001b[1;31mV20Error\u001b[0m: {\"errorMessage\":\"Insufficient authorization to perform request.\"}"
     ]
    }
   ],
   "source": [
    "DownloadAllPairs()\n",
    "print(\"7 instruments downloaded from \" + str(start_datetime) + \" to the latest candle\")"
   ]
  },
  {
   "cell_type": "code",
   "execution_count": null,
   "metadata": {},
   "outputs": [],
   "source": []
  },
  {
   "cell_type": "code",
   "execution_count": null,
   "metadata": {},
   "outputs": [],
   "source": []
  },
  {
   "cell_type": "code",
   "execution_count": 7,
   "metadata": {},
   "outputs": [],
   "source": [
    "import oandapyV20\n",
    "import oandapyV20.endpoints.accounts as accounts\n",
    "import json"
   ]
  },
  {
   "cell_type": "code",
   "execution_count": 8,
   "metadata": {},
   "outputs": [
    {
     "name": "stdout",
     "output_type": "stream",
     "text": [
      "REQUEST:v3/accounts/101-004-22497085-002/trades\n"
     ]
    },
    {
     "ename": "V20Error",
     "evalue": "{\"errorMessage\":\"Insufficient authorization to perform request.\"}",
     "output_type": "error",
     "traceback": [
      "\u001b[1;31m---------------------------------------------------------------------------\u001b[0m",
      "\u001b[1;31mV20Error\u001b[0m                                  Traceback (most recent call last)",
      "Cell \u001b[1;32mIn[8], line 9\u001b[0m\n\u001b[0;32m      7\u001b[0m \u001b[38;5;66;03m# show the endpoint as it is constructed for this call\u001b[39;00m\n\u001b[0;32m      8\u001b[0m \u001b[38;5;28mprint\u001b[39m(\u001b[38;5;124m\"\u001b[39m\u001b[38;5;124mREQUEST:\u001b[39m\u001b[38;5;132;01m{}\u001b[39;00m\u001b[38;5;124m\"\u001b[39m\u001b[38;5;241m.\u001b[39mformat(r))\n\u001b[1;32m----> 9\u001b[0m rv \u001b[38;5;241m=\u001b[39m \u001b[43mapi\u001b[49m\u001b[38;5;241;43m.\u001b[39;49m\u001b[43mrequest\u001b[49m\u001b[43m(\u001b[49m\u001b[43mr\u001b[49m\u001b[43m)\u001b[49m\n\u001b[0;32m     10\u001b[0m \u001b[38;5;28mprint\u001b[39m(\u001b[38;5;124m\"\u001b[39m\u001b[38;5;124mRESPONSE:\u001b[39m\u001b[38;5;130;01m\\n\u001b[39;00m\u001b[38;5;132;01m{}\u001b[39;00m\u001b[38;5;124m\"\u001b[39m\u001b[38;5;241m.\u001b[39mformat(json\u001b[38;5;241m.\u001b[39mdumps(rv, indent\u001b[38;5;241m=\u001b[39m\u001b[38;5;241m2\u001b[39m)))\n",
      "File \u001b[1;32m~\\AppData\\Local\\Packages\\PythonSoftwareFoundation.Python.3.11_qbz5n2kfra8p0\\LocalCache\\local-packages\\Python311\\site-packages\\oandapyV20\\oandapyV20.py:337\u001b[0m, in \u001b[0;36mAPI.request\u001b[1;34m(self, endpoint)\u001b[0m\n\u001b[0;32m    331\u001b[0m \u001b[38;5;28;01mif\u001b[39;00m \u001b[38;5;129;01mnot\u001b[39;00m (\u001b[38;5;28mhasattr\u001b[39m(endpoint, \u001b[38;5;124m\"\u001b[39m\u001b[38;5;124mSTREAM\u001b[39m\u001b[38;5;124m\"\u001b[39m) \u001b[38;5;129;01mand\u001b[39;00m\n\u001b[0;32m    332\u001b[0m         \u001b[38;5;28mgetattr\u001b[39m(endpoint, \u001b[38;5;124m\"\u001b[39m\u001b[38;5;124mSTREAM\u001b[39m\u001b[38;5;124m\"\u001b[39m) \u001b[38;5;129;01mis\u001b[39;00m \u001b[38;5;28;01mTrue\u001b[39;00m):\n\u001b[0;32m    333\u001b[0m     url \u001b[38;5;241m=\u001b[39m \u001b[38;5;124m\"\u001b[39m\u001b[38;5;132;01m{}\u001b[39;00m\u001b[38;5;124m/\u001b[39m\u001b[38;5;132;01m{}\u001b[39;00m\u001b[38;5;124m\"\u001b[39m\u001b[38;5;241m.\u001b[39mformat(\n\u001b[0;32m    334\u001b[0m         TRADING_ENVIRONMENTS[\u001b[38;5;28mself\u001b[39m\u001b[38;5;241m.\u001b[39menvironment][\u001b[38;5;124m\"\u001b[39m\u001b[38;5;124mapi\u001b[39m\u001b[38;5;124m\"\u001b[39m],\n\u001b[0;32m    335\u001b[0m         endpoint)\n\u001b[1;32m--> 337\u001b[0m     response \u001b[38;5;241m=\u001b[39m \u001b[38;5;28;43mself\u001b[39;49m\u001b[38;5;241;43m.\u001b[39;49m\u001b[43m__request\u001b[49m\u001b[43m(\u001b[49m\u001b[43mmethod\u001b[49m\u001b[43m,\u001b[49m\u001b[43m \u001b[49m\u001b[43murl\u001b[49m\u001b[43m,\u001b[49m\n\u001b[0;32m    338\u001b[0m \u001b[43m                              \u001b[49m\u001b[43mrequest_args\u001b[49m\u001b[43m,\u001b[49m\u001b[43m \u001b[49m\u001b[43mheaders\u001b[49m\u001b[38;5;241;43m=\u001b[39;49m\u001b[43mheaders\u001b[49m\u001b[43m)\u001b[49m\n\u001b[0;32m    339\u001b[0m     content \u001b[38;5;241m=\u001b[39m response\u001b[38;5;241m.\u001b[39mcontent\u001b[38;5;241m.\u001b[39mdecode(\u001b[38;5;124m'\u001b[39m\u001b[38;5;124mutf-8\u001b[39m\u001b[38;5;124m'\u001b[39m)\n\u001b[0;32m    340\u001b[0m     content \u001b[38;5;241m=\u001b[39m json\u001b[38;5;241m.\u001b[39mloads(content)\n",
      "File \u001b[1;32m~\\AppData\\Local\\Packages\\PythonSoftwareFoundation.Python.3.11_qbz5n2kfra8p0\\LocalCache\\local-packages\\Python311\\site-packages\\oandapyV20\\oandapyV20.py:274\u001b[0m, in \u001b[0;36mAPI.__request\u001b[1;34m(self, method, url, request_args, headers, stream)\u001b[0m\n\u001b[0;32m    269\u001b[0m \u001b[38;5;28;01mif\u001b[39;00m response\u001b[38;5;241m.\u001b[39mstatus_code \u001b[38;5;241m>\u001b[39m\u001b[38;5;241m=\u001b[39m \u001b[38;5;241m400\u001b[39m:\n\u001b[0;32m    270\u001b[0m     logger\u001b[38;5;241m.\u001b[39merror(\u001b[38;5;124m\"\u001b[39m\u001b[38;5;124mrequest \u001b[39m\u001b[38;5;132;01m%s\u001b[39;00m\u001b[38;5;124m failed [\u001b[39m\u001b[38;5;132;01m%d\u001b[39;00m\u001b[38;5;124m,\u001b[39m\u001b[38;5;132;01m%s\u001b[39;00m\u001b[38;5;124m]\u001b[39m\u001b[38;5;124m\"\u001b[39m,\n\u001b[0;32m    271\u001b[0m                  url,\n\u001b[0;32m    272\u001b[0m                  response\u001b[38;5;241m.\u001b[39mstatus_code,\n\u001b[0;32m    273\u001b[0m                  response\u001b[38;5;241m.\u001b[39mcontent\u001b[38;5;241m.\u001b[39mdecode(\u001b[38;5;124m'\u001b[39m\u001b[38;5;124mutf-8\u001b[39m\u001b[38;5;124m'\u001b[39m))\n\u001b[1;32m--> 274\u001b[0m     \u001b[38;5;28;01mraise\u001b[39;00m V20Error(response\u001b[38;5;241m.\u001b[39mstatus_code,\n\u001b[0;32m    275\u001b[0m                    response\u001b[38;5;241m.\u001b[39mcontent\u001b[38;5;241m.\u001b[39mdecode(\u001b[38;5;124m'\u001b[39m\u001b[38;5;124mutf-8\u001b[39m\u001b[38;5;124m'\u001b[39m))\n\u001b[0;32m    276\u001b[0m \u001b[38;5;28;01mreturn\u001b[39;00m response\n",
      "\u001b[1;31mV20Error\u001b[0m: {\"errorMessage\":\"Insufficient authorization to perform request.\"}"
     ]
    }
   ],
   "source": [
    "# get a list of trades\n",
    "from oandapyV20 import API\n",
    "import oandapyV20.endpoints.trades as trades\n",
    "api = API(access_token=\"my_access_token\")\n",
    "accountID = \"101-004-22497085-002\"\n",
    "r = trades.TradesList(accountID)\n",
    "# show the endpoint as it is constructed for this call\n",
    "print(\"REQUEST:{}\".format(r))\n",
    "rv = api.request(r)\n",
    "print(\"RESPONSE:\\n{}\".format(json.dumps(rv, indent=2)))\n",
    "\n",
    "\n",
    "\n"
   ]
  },
  {
   "cell_type": "code",
   "execution_count": null,
   "metadata": {},
   "outputs": [],
   "source": []
  }
 ],
 "metadata": {
  "kernelspec": {
   "display_name": "Python 3",
   "language": "python",
   "name": "python3"
  },
  "language_info": {
   "codemirror_mode": {
    "name": "ipython",
    "version": 3
   },
   "file_extension": ".py",
   "mimetype": "text/x-python",
   "name": "python",
   "nbconvert_exporter": "python",
   "pygments_lexer": "ipython3",
   "version": "3.11.9"
  }
 },
 "nbformat": 4,
 "nbformat_minor": 2
}
